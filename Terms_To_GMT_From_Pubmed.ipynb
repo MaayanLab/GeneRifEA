{
 "cells": [
  {
   "cell_type": "markdown",
   "metadata": {},
   "source": [
    "# Terms to GMT File from Pubmed"
   ]
  },
  {
   "cell_type": "markdown",
   "metadata": {},
   "source": [
    "Author: Moshe Silverstein <br/>\n",
    "Date: 11-17 <br/>"
   ]
  },
  {
   "cell_type": "code",
   "execution_count": 218,
   "metadata": {},
   "outputs": [],
   "source": [
    "import pandas as pd\n",
    "import numpy as np\n",
    "import os, sys\n",
    "import requests\n",
    "import urllib.request, json \n",
    "from collections import Counter"
   ]
  },
  {
   "cell_type": "markdown",
   "metadata": {},
   "source": [
    "## Load Gene Rif"
   ]
  },
  {
   "cell_type": "code",
   "execution_count": 17,
   "metadata": {
    "collapsed": true
   },
   "outputs": [],
   "source": [
    "# gene_rif = pd.read_csv('Input/generifs_basic', sep='\\t')"
   ]
  },
  {
   "cell_type": "code",
   "execution_count": 18,
   "metadata": {
    "collapsed": true
   },
   "outputs": [],
   "source": [
    "# gene_rif.head()"
   ]
  },
  {
   "cell_type": "code",
   "execution_count": 19,
   "metadata": {
    "collapsed": true
   },
   "outputs": [],
   "source": [
    "gene_rif_from_source = pd.read_csv('ftp://ftp.ncbi.nih.gov/gene/GeneRIF/generifs_basic.gz', sep='\\t', low_memory=False, index_col=2)"
   ]
  },
  {
   "cell_type": "code",
   "execution_count": 20,
   "metadata": {},
   "outputs": [
    {
     "data": {
      "text/html": [
       "<div>\n",
       "<style>\n",
       "    .dataframe thead tr:only-child th {\n",
       "        text-align: right;\n",
       "    }\n",
       "\n",
       "    .dataframe thead th {\n",
       "        text-align: left;\n",
       "    }\n",
       "\n",
       "    .dataframe tbody tr th {\n",
       "        vertical-align: top;\n",
       "    }\n",
       "</style>\n",
       "<table border=\"1\" class=\"dataframe\">\n",
       "  <thead>\n",
       "    <tr style=\"text-align: right;\">\n",
       "      <th></th>\n",
       "      <th>#Tax ID</th>\n",
       "      <th>Gene ID</th>\n",
       "      <th>last update timestamp</th>\n",
       "      <th>GeneRIF text</th>\n",
       "    </tr>\n",
       "    <tr>\n",
       "      <th>PubMed ID (PMID) list</th>\n",
       "      <th></th>\n",
       "      <th></th>\n",
       "      <th></th>\n",
       "      <th></th>\n",
       "    </tr>\n",
       "  </thead>\n",
       "  <tbody>\n",
       "    <tr>\n",
       "      <th>26235439</th>\n",
       "      <td>24</td>\n",
       "      <td>5129993</td>\n",
       "      <td>2016-08-06 11:16</td>\n",
       "      <td>study demonstrate that polar positioning of th...</td>\n",
       "    </tr>\n",
       "    <tr>\n",
       "      <th>27216815</th>\n",
       "      <td>24</td>\n",
       "      <td>5129993</td>\n",
       "      <td>2017-06-10 12:02</td>\n",
       "      <td>Three Cas proteins (Cas6f, Cas7fv, Cas5fv) and...</td>\n",
       "    </tr>\n",
       "    <tr>\n",
       "      <th>25803609</th>\n",
       "      <td>34</td>\n",
       "      <td>4126706</td>\n",
       "      <td>2016-02-20 10:11</td>\n",
       "      <td>BacM of Myxococcus xanthus forms an extended b...</td>\n",
       "    </tr>\n",
       "    <tr>\n",
       "      <th>25998248</th>\n",
       "      <td>34</td>\n",
       "      <td>4126706</td>\n",
       "      <td>2016-07-30 11:20</td>\n",
       "      <td>Data suggest BtkB exhibits conserved amino aci...</td>\n",
       "    </tr>\n",
       "    <tr>\n",
       "      <th>26639551</th>\n",
       "      <td>34</td>\n",
       "      <td>4126706</td>\n",
       "      <td>2016-10-22 11:28</td>\n",
       "      <td>EpsW, an orphan and single-domain response reg...</td>\n",
       "    </tr>\n",
       "  </tbody>\n",
       "</table>\n",
       "</div>"
      ],
      "text/plain": [
       "                       #Tax ID  Gene ID last update timestamp  \\\n",
       "PubMed ID (PMID) list                                           \n",
       "26235439                    24  5129993      2016-08-06 11:16   \n",
       "27216815                    24  5129993      2017-06-10 12:02   \n",
       "25803609                    34  4126706      2016-02-20 10:11   \n",
       "25998248                    34  4126706      2016-07-30 11:20   \n",
       "26639551                    34  4126706      2016-10-22 11:28   \n",
       "\n",
       "                                                            GeneRIF text  \n",
       "PubMed ID (PMID) list                                                     \n",
       "26235439               study demonstrate that polar positioning of th...  \n",
       "27216815               Three Cas proteins (Cas6f, Cas7fv, Cas5fv) and...  \n",
       "25803609               BacM of Myxococcus xanthus forms an extended b...  \n",
       "25998248               Data suggest BtkB exhibits conserved amino aci...  \n",
       "26639551               EpsW, an orphan and single-domain response reg...  "
      ]
     },
     "execution_count": 20,
     "metadata": {},
     "output_type": "execute_result"
    }
   ],
   "source": [
    "gene_rif_from_source.head()"
   ]
  },
  {
   "cell_type": "markdown",
   "metadata": {},
   "source": [
    "## Load Gene Mapping "
   ]
  },
  {
   "cell_type": "code",
   "execution_count": 21,
   "metadata": {
    "collapsed": true
   },
   "outputs": [],
   "source": [
    "gene_map = pd.read_csv('Input/mapgeneidtosymbol.txt', sep='\\t', index_col=1)"
   ]
  },
  {
   "cell_type": "code",
   "execution_count": 22,
   "metadata": {},
   "outputs": [
    {
     "data": {
      "text/html": [
       "<div>\n",
       "<style>\n",
       "    .dataframe thead tr:only-child th {\n",
       "        text-align: right;\n",
       "    }\n",
       "\n",
       "    .dataframe thead th {\n",
       "        text-align: left;\n",
       "    }\n",
       "\n",
       "    .dataframe tbody tr th {\n",
       "        vertical-align: top;\n",
       "    }\n",
       "</style>\n",
       "<table border=\"1\" class=\"dataframe\">\n",
       "  <thead>\n",
       "    <tr style=\"text-align: right;\">\n",
       "      <th></th>\n",
       "      <th>Approved Symbol</th>\n",
       "    </tr>\n",
       "    <tr>\n",
       "      <th>Entrez Gene ID(supplied by NCBI)</th>\n",
       "      <th></th>\n",
       "    </tr>\n",
       "  </thead>\n",
       "  <tbody>\n",
       "    <tr>\n",
       "      <th>1.0</th>\n",
       "      <td>A1BG</td>\n",
       "    </tr>\n",
       "    <tr>\n",
       "      <th>503538.0</th>\n",
       "      <td>A1BG-AS1</td>\n",
       "    </tr>\n",
       "    <tr>\n",
       "      <th>29974.0</th>\n",
       "      <td>A1CF</td>\n",
       "    </tr>\n",
       "    <tr>\n",
       "      <th>2.0</th>\n",
       "      <td>A2M</td>\n",
       "    </tr>\n",
       "    <tr>\n",
       "      <th>144571.0</th>\n",
       "      <td>A2M-AS1</td>\n",
       "    </tr>\n",
       "  </tbody>\n",
       "</table>\n",
       "</div>"
      ],
      "text/plain": [
       "                                 Approved Symbol\n",
       "Entrez Gene ID(supplied by NCBI)                \n",
       "1.0                                         A1BG\n",
       "503538.0                                A1BG-AS1\n",
       "29974.0                                     A1CF\n",
       "2.0                                          A2M\n",
       "144571.0                                 A2M-AS1"
      ]
     },
     "execution_count": 22,
     "metadata": {},
     "output_type": "execute_result"
    }
   ],
   "source": [
    "gene_map.head()"
   ]
  },
  {
   "cell_type": "markdown",
   "metadata": {
    "collapsed": true
   },
   "source": [
    "## Query Pubmed for pubmed ids of publications containing the given term"
   ]
  },
  {
   "cell_type": "code",
   "execution_count": 276,
   "metadata": {},
   "outputs": [],
   "source": [
    "def getPubmedIdsFromNCBI(term, place, numberOfTerms):\n",
    "\n",
    "    results = []\n",
    "    results2 = []\n",
    "    results3 = []\n",
    "    results4 = []\n",
    "    results5 = []\n",
    "    results6 = []\n",
    "    results7 = []\n",
    "    results8 = []\n",
    "    results9 = []\n",
    "    results10 = []\n",
    "\n",
    "    link = \"https://eutils.ncbi.nlm.nih.gov/entrez/eutils/esearch.fcgi?db=pubmed&term=%s&retmode=json&retmax=%s&retstart=%s\" % (term, 100, 100)\n",
    "\n",
    "    try:\n",
    "    \n",
    "        with urllib.request.urlopen(link) as url:\n",
    "            data = json.loads(url.read().decode())\n",
    "\n",
    "        number_of_results = int(data['esearchresult']['count'])\n",
    "\n",
    "        start = 0\n",
    "\n",
    "        grab = 100000\n",
    "        \n",
    "    except:\n",
    "        pass\n",
    "    else:\n",
    "\n",
    "        while start < number_of_results:\n",
    "    #     while start < 100000:\n",
    "\n",
    "            progressPercent = ((start)/number_of_results)*100\n",
    "\n",
    "            sys.stdout.write(\"Progress for %s which is %d out of %d Terms: ~%d%%  %d through %d Out of %d  \\r\" % (term, place, numberOfTerms, progressPercent, start, start+grab, number_of_results))\n",
    "            sys.stdout.flush()\n",
    "\n",
    "            link = \"https://eutils.ncbi.nlm.nih.gov/entrez/eutils/esearch.fcgi?db=pubmed&term=%s&retmode=json&retmax=%s&retstart=%s&usehistory=y\" % (term, grab, start)\n",
    "\n",
    "            try:\n",
    "                url = urllib.request.urlopen(link)\n",
    "                data = json.loads(url.read().decode()) \n",
    "            except:\n",
    "                pass\n",
    "            else:\n",
    "                \n",
    "    #         try:\n",
    "    #             with urllib.request.urlopen(link) as url:\n",
    "    #                 data = json.loads(url.read().decode())\n",
    "\n",
    "    #             results.append(data['esearchresult']['idlist'])\n",
    "                if len(results) <= 1000000:\n",
    "                    results.extend(data['esearchresult']['idlist'])\n",
    "                elif len(results2) <= 1000000:\n",
    "                    results2.extend(data['esearchresult']['idlist'])\n",
    "                elif len(results3) <= 1000000:\n",
    "                    results3.extend(data['esearchresult']['idlist'])\n",
    "                elif len(results4) <= 1000000:\n",
    "                    results4.extend(data['esearchresult']['idlist'])\n",
    "                elif len(results5) <= 1000000:\n",
    "                    results5.extend(data['esearchresult']['idlist'])\n",
    "                elif len(results6) <= 1000000:\n",
    "                    results6.extend(data['esearchresult']['idlist'])\n",
    "                elif len(results7) <= 1000000:\n",
    "                    results7.extend(data['esearchresult']['idlist'])\n",
    "                elif len(results8) <= 1000000:\n",
    "                    results8.extend(data['esearchresult']['idlist'])\n",
    "                elif len(results9) <= 1000000:\n",
    "                    results9.extend(data['esearchresult']['idlist'])\n",
    "                else:\n",
    "                    results10.extend(data['esearchresult']['idlist'])\n",
    "\n",
    "                start += grab\n",
    "    #         except urllib.error.URLError as e:\n",
    "    #             break\n",
    "    #         except:\n",
    "    #             start += grab\n",
    "\n",
    "    #     results = [item for items in results for item in items]\n",
    "\n",
    "        results.extend(results2)\n",
    "        results.extend(results3)\n",
    "        results.extend(results4)\n",
    "        results.extend(results5)\n",
    "        results.extend(results6)\n",
    "        results.extend(results7)\n",
    "        results.extend(results8)\n",
    "        results.extend(results9)\n",
    "        results.extend(results10)\n",
    "\n",
    "        return (results) "
   ]
  },
  {
   "cell_type": "markdown",
   "metadata": {},
   "source": [
    "## Convert Pubmed Ids to Genes"
   ]
  },
  {
   "cell_type": "code",
   "execution_count": 249,
   "metadata": {},
   "outputs": [],
   "source": [
    "def getGenes(pubmedIds):\n",
    "    \n",
    "    if type(pubmedIds) == list:\n",
    "    \n",
    "        pubmedIdsthathavegenes =  gene_rif_from_source.index.intersection(pubmedIds)\n",
    "    #     print('\\n'+str(len(pubmedIdsthathavegenes)))\n",
    "\n",
    "    #     geneIds = gene_rif_from_source.loc[pubmedIdsthathavegenes, 'Gene ID'].values.tolist()\n",
    "        geneIds1 = gene_rif_from_source.loc[pubmedIdsthathavegenes[0:int(len(pubmedIdsthathavegenes)/10)], 'Gene ID'].values.tolist()\n",
    "        geneIds2 = gene_rif_from_source.loc[pubmedIdsthathavegenes[int(len(pubmedIdsthathavegenes)/10):2*int(len(pubmedIdsthathavegenes)/10)], 'Gene ID'].values.tolist()\n",
    "        geneIds3 = gene_rif_from_source.loc[pubmedIdsthathavegenes[2*int(len(pubmedIdsthathavegenes)/10):3*int(len(pubmedIdsthathavegenes)/10)], 'Gene ID'].values.tolist()\n",
    "        geneIds4 = gene_rif_from_source.loc[pubmedIdsthathavegenes[3*int(len(pubmedIdsthathavegenes)/10):4*int(len(pubmedIdsthathavegenes)/10)], 'Gene ID'].values.tolist()\n",
    "        geneIds5 = gene_rif_from_source.loc[pubmedIdsthathavegenes[4*int(len(pubmedIdsthathavegenes)/10):5*int(len(pubmedIdsthathavegenes)/10)], 'Gene ID'].values.tolist()\n",
    "        geneIds6 = gene_rif_from_source.loc[pubmedIdsthathavegenes[5*int(len(pubmedIdsthathavegenes)/10):6*int(len(pubmedIdsthathavegenes)/10)], 'Gene ID'].values.tolist()\n",
    "        geneIds7 = gene_rif_from_source.loc[pubmedIdsthathavegenes[6*int(len(pubmedIdsthathavegenes)/10):7*int(len(pubmedIdsthathavegenes)/10)], 'Gene ID'].values.tolist()\n",
    "        geneIds8 = gene_rif_from_source.loc[pubmedIdsthathavegenes[7*int(len(pubmedIdsthathavegenes)/10):8*int(len(pubmedIdsthathavegenes)/10)], 'Gene ID'].values.tolist()\n",
    "        geneIds9 = gene_rif_from_source.loc[pubmedIdsthathavegenes[8*int(len(pubmedIdsthathavegenes)/10):9*int(len(pubmedIdsthathavegenes)/10)], 'Gene ID'].values.tolist()\n",
    "        geneIds10 = gene_rif_from_source.loc[pubmedIdsthathavegenes[9*int(len(pubmedIdsthathavegenes)/10):len(pubmedIdsthathavegenes)], 'Gene ID'].values.tolist()\n",
    "\n",
    "        genes1 = gene_map.loc[geneIds1, 'Approved Symbol']\n",
    "        genes2 = gene_map.loc[geneIds2, 'Approved Symbol']\n",
    "        genes3 = gene_map.loc[geneIds3, 'Approved Symbol']\n",
    "        genes4 = gene_map.loc[geneIds4, 'Approved Symbol']\n",
    "        genes5 = gene_map.loc[geneIds5, 'Approved Symbol']\n",
    "        genes6 = gene_map.loc[geneIds6, 'Approved Symbol']\n",
    "        genes7 = gene_map.loc[geneIds7, 'Approved Symbol']\n",
    "        genes8 = gene_map.loc[geneIds8, 'Approved Symbol']\n",
    "        genes9 = gene_map.loc[geneIds9, 'Approved Symbol']\n",
    "        genes10 = gene_map.loc[geneIds10, 'Approved Symbol']\n",
    "\n",
    "        genes =  genes1\n",
    "        genes = pd.concat([genes, genes2])\n",
    "        genes = pd.concat([genes, genes3])\n",
    "        genes = pd.concat([genes, genes4])\n",
    "        genes = pd.concat([genes, genes5])\n",
    "        genes = pd.concat([genes, genes6])\n",
    "        genes = pd.concat([genes, genes7])\n",
    "        genes = pd.concat([genes, genes8])\n",
    "        genes = pd.concat([genes, genes9])\n",
    "        genes = pd.concat([genes, genes10])\n",
    "\n",
    "        genes.dropna(inplace=True)\n",
    "\n",
    "        genes = genes.values.tolist()\n",
    "\n",
    "        return(genes)\n",
    "    else:\n",
    "        return([''])"
   ]
  },
  {
   "cell_type": "markdown",
   "metadata": {},
   "source": [
    "## Get top genes by count"
   ]
  },
  {
   "cell_type": "code",
   "execution_count": 243,
   "metadata": {
    "collapsed": true
   },
   "outputs": [],
   "source": [
    "def getTopByCount(genes, top):\n",
    "    \n",
    "    \n",
    "    genesWithCount = Counter(genes)\n",
    "\n",
    "    most_common = genesWithCount.most_common(top)\n",
    "\n",
    "    most_common = [gene[0] for gene in most_common]\n",
    "\n",
    "    return(most_common)"
   ]
  },
  {
   "cell_type": "markdown",
   "metadata": {},
   "source": [
    "## Input list of terms and get GMT file output"
   ]
  },
  {
   "cell_type": "code",
   "execution_count": 167,
   "metadata": {
    "collapsed": true
   },
   "outputs": [],
   "source": [
    "def getListOfGenesForTerm(terms, howManyTop, filename, folder):\n",
    "    \n",
    "    for i, term in enumerate(terms):\n",
    "        \n",
    "#         progressPercent = ((i+1)/len(terms))*100\n",
    "\n",
    "#         sys.stdout.write(\"Progress: %d%%  %d Out of %d terms  \\r\" % (progressPercent, (i+1), len(terms)))\n",
    "#         sys.stdout.flush()\n",
    "    \n",
    "        term = term.lower()\n",
    "\n",
    "        term = '+'.join(term.split(' '))\n",
    "\n",
    "        pubmedIds = getPubmedIdsFromNCBI(term, (i+1), len(terms))\n",
    "\n",
    "        genes = getGenes(pubmedIds)\n",
    "\n",
    "        topGenes = getTopByCount(genes, howManyTop)\n",
    "        \n",
    "        if (' ').join(term.split('+')).upper() in topGenes:\n",
    "            topGenes.remove((' ').join(term.split('+')).upper())\n",
    "        \n",
    "        if len(topGenes) >= 4:\n",
    "        \n",
    "            geneSet = topGenes\n",
    "\n",
    "            geneSet.insert(0, (' ').join(term.split('+')).upper())\n",
    "\n",
    "            geneSet.insert(1, 'NA')\n",
    "\n",
    "            geneSet = ['{0}\\t'.format(elem) for elem in geneSet] # add tabs between terms in the lst\n",
    "\n",
    "            geneSet.insert(len(geneSet), '\\n') # add a newline char at the end of each lst\n",
    "\n",
    "            with open(folder+'/'+filename, 'a') as the_file:\n",
    "                the_file.writelines(geneSet)"
   ]
  },
  {
   "cell_type": "markdown",
   "metadata": {},
   "source": [
    "## Run Code"
   ]
  },
  {
   "cell_type": "code",
   "execution_count": 27,
   "metadata": {
    "collapsed": true
   },
   "outputs": [],
   "source": [
    "# terms = ['breast cancer', 'colon cancer', 'lung cancer', \"crohn's disease\"]"
   ]
  },
  {
   "cell_type": "code",
   "execution_count": 188,
   "metadata": {},
   "outputs": [],
   "source": [
    "# getListOfGenesForTerm(terms, 100, 'test.gmt', 'Output')"
   ]
  },
  {
   "cell_type": "code",
   "execution_count": 65,
   "metadata": {
    "collapsed": true
   },
   "outputs": [],
   "source": [
    "# terms = ['blood precdcs']"
   ]
  },
  {
   "cell_type": "code",
   "execution_count": 189,
   "metadata": {},
   "outputs": [],
   "source": [
    "# getListOfGenesForTerm(terms, 100, 'test.gmt', 'Output')"
   ]
  },
  {
   "cell_type": "markdown",
   "metadata": {},
   "source": [
    "# ARCHS4 Tissue List"
   ]
  },
  {
   "cell_type": "code",
   "execution_count": 178,
   "metadata": {
    "collapsed": true
   },
   "outputs": [],
   "source": [
    "df = pd.read_csv('Input/archs4_tissue_attribute_list_2017_08.tsv')"
   ]
  },
  {
   "cell_type": "code",
   "execution_count": 179,
   "metadata": {},
   "outputs": [
    {
     "data": {
      "text/html": [
       "<div>\n",
       "<style>\n",
       "    .dataframe thead tr:only-child th {\n",
       "        text-align: right;\n",
       "    }\n",
       "\n",
       "    .dataframe thead th {\n",
       "        text-align: left;\n",
       "    }\n",
       "\n",
       "    .dataframe tbody tr th {\n",
       "        vertical-align: top;\n",
       "    }\n",
       "</style>\n",
       "<table border=\"1\" class=\"dataframe\">\n",
       "  <thead>\n",
       "    <tr style=\"text-align: right;\">\n",
       "      <th></th>\n",
       "      <th>Attributes</th>\n",
       "    </tr>\n",
       "  </thead>\n",
       "  <tbody>\n",
       "    <tr>\n",
       "      <th>0</th>\n",
       "      <td>ADIPOSE (BULK TISSUE)</td>\n",
       "    </tr>\n",
       "    <tr>\n",
       "      <th>1</th>\n",
       "      <td>ADRENAL GLAND</td>\n",
       "    </tr>\n",
       "    <tr>\n",
       "      <th>2</th>\n",
       "      <td>ALPHA CELL</td>\n",
       "    </tr>\n",
       "    <tr>\n",
       "      <th>3</th>\n",
       "      <td>ALVEOLAR CELL TYPE II</td>\n",
       "    </tr>\n",
       "    <tr>\n",
       "      <th>4</th>\n",
       "      <td>ALVEOLAR MACROPHAGE</td>\n",
       "    </tr>\n",
       "  </tbody>\n",
       "</table>\n",
       "</div>"
      ],
      "text/plain": [
       "              Attributes\n",
       "0  ADIPOSE (BULK TISSUE)\n",
       "1          ADRENAL GLAND\n",
       "2             ALPHA CELL\n",
       "3  ALVEOLAR CELL TYPE II\n",
       "4    ALVEOLAR MACROPHAGE"
      ]
     },
     "execution_count": 179,
     "metadata": {},
     "output_type": "execute_result"
    }
   ],
   "source": [
    "df.head()"
   ]
  },
  {
   "cell_type": "code",
   "execution_count": 180,
   "metadata": {
    "collapsed": true
   },
   "outputs": [],
   "source": [
    "tissues = df.values.tolist()"
   ]
  },
  {
   "cell_type": "code",
   "execution_count": 181,
   "metadata": {
    "collapsed": true
   },
   "outputs": [],
   "source": [
    "tissues = [item[0] for item in tissues]"
   ]
  },
  {
   "cell_type": "code",
   "execution_count": 182,
   "metadata": {},
   "outputs": [],
   "source": [
    "tissues1 = [item.split('(')[0][:-1] for item in tissues if '(' in item] "
   ]
  },
  {
   "cell_type": "code",
   "execution_count": 183,
   "metadata": {
    "collapsed": true
   },
   "outputs": [],
   "source": [
    "tissues2 = [item for item in tissues if '(' not in item] "
   ]
  },
  {
   "cell_type": "code",
   "execution_count": 184,
   "metadata": {},
   "outputs": [],
   "source": [
    "tissues = tissues1 + tissues2"
   ]
  },
  {
   "cell_type": "code",
   "execution_count": 185,
   "metadata": {
    "collapsed": true
   },
   "outputs": [],
   "source": [
    "tissues = list(set(tissues))"
   ]
  },
  {
   "cell_type": "code",
   "execution_count": 186,
   "metadata": {},
   "outputs": [
    {
     "data": {
      "text/plain": [
       "['DORSAL STRIATUM',\n",
       " 'HUMAN EMBRYO',\n",
       " 'ESOPHAGUS',\n",
       " 'ALPHA CELL',\n",
       " 'SKELETAL MUSCLE SATELLITE CELL',\n",
       " 'FIBROBLAST',\n",
       " 'SENSORY NEURON',\n",
       " 'TESTIS',\n",
       " 'OSTEOBLAST',\n",
       " 'SUPERIOR FRONTAL GYRUS']"
      ]
     },
     "execution_count": 186,
     "metadata": {},
     "output_type": "execute_result"
    }
   ],
   "source": [
    "tissues[0:10]"
   ]
  },
  {
   "cell_type": "code",
   "execution_count": 187,
   "metadata": {},
   "outputs": [
    {
     "name": "stdout",
     "output_type": "stream",
     "text": [
      "Progress for podocyte which is 107 out of 107 Terms: ~0%  0 through 100000 Out of 6677  of 255914  589  9   \r"
     ]
    }
   ],
   "source": [
    "getListOfGenesForTerm(tissues, 100, 'archs4_tissue_11_14_2017_top_100_min_>=4.gmt', 'Output')"
   ]
  },
  {
   "cell_type": "markdown",
   "metadata": {},
   "source": [
    "# ARCHS4 Transcrption Factor List"
   ]
  },
  {
   "cell_type": "code",
   "execution_count": 138,
   "metadata": {},
   "outputs": [],
   "source": [
    "df = pd.read_csv('Input/archs4_transcription_factor_attribute_list_2017_08.tsv')"
   ]
  },
  {
   "cell_type": "code",
   "execution_count": 139,
   "metadata": {},
   "outputs": [
    {
     "data": {
      "text/html": [
       "<div>\n",
       "<style>\n",
       "    .dataframe thead tr:only-child th {\n",
       "        text-align: right;\n",
       "    }\n",
       "\n",
       "    .dataframe thead th {\n",
       "        text-align: left;\n",
       "    }\n",
       "\n",
       "    .dataframe tbody tr th {\n",
       "        vertical-align: top;\n",
       "    }\n",
       "</style>\n",
       "<table border=\"1\" class=\"dataframe\">\n",
       "  <thead>\n",
       "    <tr style=\"text-align: right;\">\n",
       "      <th></th>\n",
       "      <th>Attributes</th>\n",
       "    </tr>\n",
       "  </thead>\n",
       "  <tbody>\n",
       "    <tr>\n",
       "      <th>0</th>\n",
       "      <td>ZNF19</td>\n",
       "    </tr>\n",
       "    <tr>\n",
       "      <th>1</th>\n",
       "      <td>ARNTL</td>\n",
       "    </tr>\n",
       "    <tr>\n",
       "      <th>2</th>\n",
       "      <td>HEY1</td>\n",
       "    </tr>\n",
       "    <tr>\n",
       "      <th>3</th>\n",
       "      <td>ZNF260</td>\n",
       "    </tr>\n",
       "    <tr>\n",
       "      <th>4</th>\n",
       "      <td>MAFG</td>\n",
       "    </tr>\n",
       "  </tbody>\n",
       "</table>\n",
       "</div>"
      ],
      "text/plain": [
       "  Attributes\n",
       "0      ZNF19\n",
       "1      ARNTL\n",
       "2       HEY1\n",
       "3     ZNF260\n",
       "4       MAFG"
      ]
     },
     "execution_count": 139,
     "metadata": {},
     "output_type": "execute_result"
    }
   ],
   "source": [
    "df.head()"
   ]
  },
  {
   "cell_type": "code",
   "execution_count": 150,
   "metadata": {},
   "outputs": [],
   "source": [
    "tfs = df.values.tolist()"
   ]
  },
  {
   "cell_type": "code",
   "execution_count": 155,
   "metadata": {},
   "outputs": [],
   "source": [
    "tfs = [item[0] for item in tfs]"
   ]
  },
  {
   "cell_type": "code",
   "execution_count": 156,
   "metadata": {},
   "outputs": [
    {
     "data": {
      "text/plain": [
       "['ZNF19',\n",
       " 'ARNTL',\n",
       " 'HEY1',\n",
       " 'ZNF260',\n",
       " 'MAFG',\n",
       " 'POU6F2',\n",
       " 'NPAS1',\n",
       " 'WT1',\n",
       " 'PDS5B',\n",
       " 'ZNF257']"
      ]
     },
     "execution_count": 156,
     "metadata": {},
     "output_type": "execute_result"
    }
   ],
   "source": [
    "tfs[0:10]"
   ]
  },
  {
   "cell_type": "code",
   "execution_count": 170,
   "metadata": {},
   "outputs": [
    {
     "name": "stdout",
     "output_type": "stream",
     "text": [
      "Progress for znf90 which is 1724 out of 1724 Terms: ~0%  0 through 100000 Out of 2       78     \r"
     ]
    }
   ],
   "source": [
    "getListOfGenesForTerm(tfs, 100, 'archs4_tf_11_15_2017_top_100_min_>=4.gmt', 'Output')"
   ]
  },
  {
   "cell_type": "markdown",
   "metadata": {},
   "source": [
    "# ARCHS4 Kinase List"
   ]
  },
  {
   "cell_type": "code",
   "execution_count": 171,
   "metadata": {
    "collapsed": true
   },
   "outputs": [],
   "source": [
    "df = pd.read_csv('Input/archs4_kinase_attribute_list_2017_08.tsv')"
   ]
  },
  {
   "cell_type": "code",
   "execution_count": 172,
   "metadata": {},
   "outputs": [
    {
     "data": {
      "text/html": [
       "<div>\n",
       "<style>\n",
       "    .dataframe thead tr:only-child th {\n",
       "        text-align: right;\n",
       "    }\n",
       "\n",
       "    .dataframe thead th {\n",
       "        text-align: left;\n",
       "    }\n",
       "\n",
       "    .dataframe tbody tr th {\n",
       "        vertical-align: top;\n",
       "    }\n",
       "</style>\n",
       "<table border=\"1\" class=\"dataframe\">\n",
       "  <thead>\n",
       "    <tr style=\"text-align: right;\">\n",
       "      <th></th>\n",
       "      <th>Attributes</th>\n",
       "    </tr>\n",
       "  </thead>\n",
       "  <tbody>\n",
       "    <tr>\n",
       "      <th>0</th>\n",
       "      <td>MKNK2</td>\n",
       "    </tr>\n",
       "    <tr>\n",
       "      <th>1</th>\n",
       "      <td>PRKY</td>\n",
       "    </tr>\n",
       "    <tr>\n",
       "      <th>2</th>\n",
       "      <td>TESK1</td>\n",
       "    </tr>\n",
       "    <tr>\n",
       "      <th>3</th>\n",
       "      <td>MINK1</td>\n",
       "    </tr>\n",
       "    <tr>\n",
       "      <th>4</th>\n",
       "      <td>SBK2</td>\n",
       "    </tr>\n",
       "  </tbody>\n",
       "</table>\n",
       "</div>"
      ],
      "text/plain": [
       "  Attributes\n",
       "0      MKNK2\n",
       "1       PRKY\n",
       "2      TESK1\n",
       "3      MINK1\n",
       "4       SBK2"
      ]
     },
     "execution_count": 172,
     "metadata": {},
     "output_type": "execute_result"
    }
   ],
   "source": [
    "df.head()"
   ]
  },
  {
   "cell_type": "code",
   "execution_count": 173,
   "metadata": {
    "collapsed": true
   },
   "outputs": [],
   "source": [
    "ks = df.values.tolist()"
   ]
  },
  {
   "cell_type": "code",
   "execution_count": 175,
   "metadata": {
    "collapsed": true
   },
   "outputs": [],
   "source": [
    "ks = [item[0] for item in ks]"
   ]
  },
  {
   "cell_type": "code",
   "execution_count": 176,
   "metadata": {},
   "outputs": [
    {
     "data": {
      "text/plain": [
       "['MKNK2',\n",
       " 'PRKY',\n",
       " 'TESK1',\n",
       " 'MINK1',\n",
       " 'SBK2',\n",
       " 'PIK3CA',\n",
       " 'MAP2K1',\n",
       " 'MAP3K8',\n",
       " 'ANKK1',\n",
       " 'DAPK3']"
      ]
     },
     "execution_count": 176,
     "metadata": {},
     "output_type": "execute_result"
    }
   ],
   "source": [
    "ks[0:10]"
   ]
  },
  {
   "cell_type": "code",
   "execution_count": 177,
   "metadata": {},
   "outputs": [
    {
     "name": "stdout",
     "output_type": "stream",
     "text": [
      "Progress for rps6ka4 which is 498 out of 498 Terms: ~0%  0 through 100000 Out of 54   288  \r"
     ]
    }
   ],
   "source": [
    "getListOfGenesForTerm(ks, 100, 'archs4_kinases_11_15_2017_top_100_min_>=4.gmt', 'Output')"
   ]
  },
  {
   "cell_type": "markdown",
   "metadata": {},
   "source": [
    "# ARCHS4 Celline List"
   ]
  },
  {
   "cell_type": "code",
   "execution_count": 191,
   "metadata": {
    "collapsed": true
   },
   "outputs": [],
   "source": [
    "df = pd.read_csv('Input/archs4_celline_attribute_list_2017_08.tsv')"
   ]
  },
  {
   "cell_type": "code",
   "execution_count": 192,
   "metadata": {},
   "outputs": [
    {
     "data": {
      "text/html": [
       "<div>\n",
       "<style>\n",
       "    .dataframe thead tr:only-child th {\n",
       "        text-align: right;\n",
       "    }\n",
       "\n",
       "    .dataframe thead th {\n",
       "        text-align: left;\n",
       "    }\n",
       "\n",
       "    .dataframe tbody tr th {\n",
       "        vertical-align: top;\n",
       "    }\n",
       "</style>\n",
       "<table border=\"1\" class=\"dataframe\">\n",
       "  <thead>\n",
       "    <tr style=\"text-align: right;\">\n",
       "      <th></th>\n",
       "      <th>Attributes</th>\n",
       "    </tr>\n",
       "  </thead>\n",
       "  <tbody>\n",
       "    <tr>\n",
       "      <th>0</th>\n",
       "      <td>22RV1</td>\n",
       "    </tr>\n",
       "    <tr>\n",
       "      <th>1</th>\n",
       "      <td>293F</td>\n",
       "    </tr>\n",
       "    <tr>\n",
       "      <th>2</th>\n",
       "      <td>A172</td>\n",
       "    </tr>\n",
       "    <tr>\n",
       "      <th>3</th>\n",
       "      <td>A375</td>\n",
       "    </tr>\n",
       "    <tr>\n",
       "      <th>4</th>\n",
       "      <td>A431</td>\n",
       "    </tr>\n",
       "  </tbody>\n",
       "</table>\n",
       "</div>"
      ],
      "text/plain": [
       "  Attributes\n",
       "0      22RV1\n",
       "1       293F\n",
       "2       A172\n",
       "3       A375\n",
       "4       A431"
      ]
     },
     "execution_count": 192,
     "metadata": {},
     "output_type": "execute_result"
    }
   ],
   "source": [
    "df.head()"
   ]
  },
  {
   "cell_type": "code",
   "execution_count": 193,
   "metadata": {
    "collapsed": true
   },
   "outputs": [],
   "source": [
    "cl = df.values.tolist()"
   ]
  },
  {
   "cell_type": "code",
   "execution_count": 194,
   "metadata": {
    "collapsed": true
   },
   "outputs": [],
   "source": [
    "cl = [item[0] for item in cl]"
   ]
  },
  {
   "cell_type": "code",
   "execution_count": 196,
   "metadata": {},
   "outputs": [
    {
     "data": {
      "text/plain": [
       "['22RV1',\n",
       " '293F',\n",
       " 'A172',\n",
       " 'A375',\n",
       " 'A431',\n",
       " 'A549',\n",
       " 'A673',\n",
       " 'ASPC1',\n",
       " 'BEAS2B',\n",
       " 'BEWO']"
      ]
     },
     "execution_count": 196,
     "metadata": {},
     "output_type": "execute_result"
    }
   ],
   "source": [
    "cl[0:10]"
   ]
  },
  {
   "cell_type": "code",
   "execution_count": 197,
   "metadata": {},
   "outputs": [
    {
     "name": "stdout",
     "output_type": "stream",
     "text": [
      "Progress for vcap which is 126 out of 127 Terms: ~0%  0 through 100000 Out of 297      \r"
     ]
    }
   ],
   "source": [
    "getListOfGenesForTerm(cl, 100, 'archs4_celline_11_15_2017_top_100_min_>=4.gmt', 'Output')"
   ]
  },
  {
   "cell_type": "markdown",
   "metadata": {},
   "source": [
    "# GO Biologogical Process Term List"
   ]
  },
  {
   "cell_type": "code",
   "execution_count": 231,
   "metadata": {},
   "outputs": [],
   "source": [
    "df = pd.read_csv('Input/go_biological_process_attribute_list_2017_08.tsv', sep='\\t')"
   ]
  },
  {
   "cell_type": "code",
   "execution_count": 232,
   "metadata": {},
   "outputs": [
    {
     "data": {
      "text/html": [
       "<div>\n",
       "<style>\n",
       "    .dataframe thead tr:only-child th {\n",
       "        text-align: right;\n",
       "    }\n",
       "\n",
       "    .dataframe thead th {\n",
       "        text-align: left;\n",
       "    }\n",
       "\n",
       "    .dataframe tbody tr th {\n",
       "        vertical-align: top;\n",
       "    }\n",
       "</style>\n",
       "<table border=\"1\" class=\"dataframe\">\n",
       "  <thead>\n",
       "    <tr style=\"text-align: right;\">\n",
       "      <th></th>\n",
       "      <th>Attributes</th>\n",
       "    </tr>\n",
       "  </thead>\n",
       "  <tbody>\n",
       "    <tr>\n",
       "      <th>0</th>\n",
       "      <td>tRNA modification</td>\n",
       "    </tr>\n",
       "    <tr>\n",
       "      <th>1</th>\n",
       "      <td>Fc-gamma receptor signaling pathway</td>\n",
       "    </tr>\n",
       "    <tr>\n",
       "      <th>2</th>\n",
       "      <td>minus-end-directed organelle transport along m...</td>\n",
       "    </tr>\n",
       "    <tr>\n",
       "      <th>3</th>\n",
       "      <td>termination of mitochondrial transcription</td>\n",
       "    </tr>\n",
       "    <tr>\n",
       "      <th>4</th>\n",
       "      <td>regulation of ribonuclease activity</td>\n",
       "    </tr>\n",
       "  </tbody>\n",
       "</table>\n",
       "</div>"
      ],
      "text/plain": [
       "                                          Attributes\n",
       "0                                  tRNA modification\n",
       "1                Fc-gamma receptor signaling pathway\n",
       "2  minus-end-directed organelle transport along m...\n",
       "3         termination of mitochondrial transcription\n",
       "4                regulation of ribonuclease activity"
      ]
     },
     "execution_count": 232,
     "metadata": {},
     "output_type": "execute_result"
    }
   ],
   "source": [
    "df.head()"
   ]
  },
  {
   "cell_type": "code",
   "execution_count": 233,
   "metadata": {
    "collapsed": true
   },
   "outputs": [],
   "source": [
    "gbp = df.values.tolist()"
   ]
  },
  {
   "cell_type": "code",
   "execution_count": 234,
   "metadata": {
    "collapsed": true
   },
   "outputs": [],
   "source": [
    "gbp = [item[0] for item in gbp]"
   ]
  },
  {
   "cell_type": "code",
   "execution_count": 235,
   "metadata": {},
   "outputs": [
    {
     "data": {
      "text/plain": [
       "['tRNA modification',\n",
       " 'Fc-gamma receptor signaling pathway',\n",
       " 'minus-end-directed organelle transport along microtubule',\n",
       " 'termination of mitochondrial transcription',\n",
       " 'regulation of ribonuclease activity',\n",
       " 'T-helper 1 cell activation',\n",
       " 'saturated monocarboxylic acid metabolic process',\n",
       " 'purine nucleotide interconversion',\n",
       " 'regulation of endoplasmic reticulum stress-induced neuron intrinsic apoptotic signaling pathway',\n",
       " 'cellular response to potassium ion']"
      ]
     },
     "execution_count": 235,
     "metadata": {},
     "output_type": "execute_result"
    }
   ],
   "source": [
    "gbp[0:10]"
   ]
  },
  {
   "cell_type": "code",
   "execution_count": 246,
   "metadata": {},
   "outputs": [
    {
     "name": "stdout",
     "output_type": "stream",
     "text": [
      "Progress for sympathetic+neuron+axon+guidance which is 1431 out of 17820 Terms: ~0%  0 through 100000 Out of 50  0 through 100000 Out of 2  h 100000 Out of 4  ut of 33  h 100000 Out of 1   252  ut of 1  \r"
     ]
    },
    {
     "ename": "TypeError",
     "evalue": "object of type 'NoneType' has no len()",
     "output_type": "error",
     "traceback": [
      "\u001b[0;31m---------------------------------------------------------------------------\u001b[0m",
      "\u001b[0;31mTypeError\u001b[0m                                 Traceback (most recent call last)",
      "\u001b[0;32m<ipython-input-246-84a58a640e77>\u001b[0m in \u001b[0;36m<module>\u001b[0;34m()\u001b[0m\n\u001b[0;32m----> 1\u001b[0;31m \u001b[0mgetListOfGenesForTerm\u001b[0m\u001b[0;34m(\u001b[0m\u001b[0mgbp\u001b[0m\u001b[0;34m,\u001b[0m \u001b[0;36m100\u001b[0m\u001b[0;34m,\u001b[0m \u001b[0;34m'go_biological_process_11_15_2017_top_100_min_>=4.gmt'\u001b[0m\u001b[0;34m,\u001b[0m \u001b[0;34m'Output'\u001b[0m\u001b[0;34m)\u001b[0m\u001b[0;34m\u001b[0m\u001b[0m\n\u001b[0m",
      "\u001b[0;32m<ipython-input-167-4e1f4f68d42b>\u001b[0m in \u001b[0;36mgetListOfGenesForTerm\u001b[0;34m(terms, howManyTop, filename, folder)\u001b[0m\n\u001b[1;32m     14\u001b[0m         \u001b[0mpubmedIds\u001b[0m \u001b[0;34m=\u001b[0m \u001b[0mgetPubmedIdsFromNCBI\u001b[0m\u001b[0;34m(\u001b[0m\u001b[0mterm\u001b[0m\u001b[0;34m,\u001b[0m \u001b[0;34m(\u001b[0m\u001b[0mi\u001b[0m\u001b[0;34m+\u001b[0m\u001b[0;36m1\u001b[0m\u001b[0;34m)\u001b[0m\u001b[0;34m,\u001b[0m \u001b[0mlen\u001b[0m\u001b[0;34m(\u001b[0m\u001b[0mterms\u001b[0m\u001b[0;34m)\u001b[0m\u001b[0;34m)\u001b[0m\u001b[0;34m\u001b[0m\u001b[0m\n\u001b[1;32m     15\u001b[0m \u001b[0;34m\u001b[0m\u001b[0m\n\u001b[0;32m---> 16\u001b[0;31m         \u001b[0mgenes\u001b[0m \u001b[0;34m=\u001b[0m \u001b[0mgetGenes\u001b[0m\u001b[0;34m(\u001b[0m\u001b[0mpubmedIds\u001b[0m\u001b[0;34m)\u001b[0m\u001b[0;34m\u001b[0m\u001b[0m\n\u001b[0m\u001b[1;32m     17\u001b[0m \u001b[0;34m\u001b[0m\u001b[0m\n\u001b[1;32m     18\u001b[0m         \u001b[0mtopGenes\u001b[0m \u001b[0;34m=\u001b[0m \u001b[0mgetTopByCount\u001b[0m\u001b[0;34m(\u001b[0m\u001b[0mgenes\u001b[0m\u001b[0;34m,\u001b[0m \u001b[0mhowManyTop\u001b[0m\u001b[0;34m)\u001b[0m\u001b[0;34m\u001b[0m\u001b[0m\n",
      "\u001b[0;32m<ipython-input-245-5cf5d5f69638>\u001b[0m in \u001b[0;36mgetGenes\u001b[0;34m(pubmedIds)\u001b[0m\n\u001b[1;32m      1\u001b[0m \u001b[0;32mdef\u001b[0m \u001b[0mgetGenes\u001b[0m\u001b[0;34m(\u001b[0m\u001b[0mpubmedIds\u001b[0m\u001b[0;34m)\u001b[0m\u001b[0;34m:\u001b[0m\u001b[0;34m\u001b[0m\u001b[0m\n\u001b[1;32m      2\u001b[0m \u001b[0;34m\u001b[0m\u001b[0m\n\u001b[0;32m----> 3\u001b[0;31m     \u001b[0;32mif\u001b[0m \u001b[0mlen\u001b[0m\u001b[0;34m(\u001b[0m\u001b[0mpubmedIds\u001b[0m\u001b[0;34m)\u001b[0m \u001b[0;34m>\u001b[0m \u001b[0;36m0\u001b[0m\u001b[0;34m:\u001b[0m\u001b[0;34m\u001b[0m\u001b[0m\n\u001b[0m\u001b[1;32m      4\u001b[0m \u001b[0;34m\u001b[0m\u001b[0m\n\u001b[1;32m      5\u001b[0m         \u001b[0mpubmedIdsthathavegenes\u001b[0m \u001b[0;34m=\u001b[0m  \u001b[0mgene_rif_from_source\u001b[0m\u001b[0;34m.\u001b[0m\u001b[0mindex\u001b[0m\u001b[0;34m.\u001b[0m\u001b[0mintersection\u001b[0m\u001b[0;34m(\u001b[0m\u001b[0mpubmedIds\u001b[0m\u001b[0;34m)\u001b[0m\u001b[0;34m\u001b[0m\u001b[0m\n",
      "\u001b[0;31mTypeError\u001b[0m: object of type 'NoneType' has no len()"
     ]
    }
   ],
   "source": [
    "getListOfGenesForTerm(gbp, 100, 'go_biological_process_11_15_2017_top_100_min_>=4.gmt', 'Output')"
   ]
  },
  {
   "cell_type": "code",
   "execution_count": 250,
   "metadata": {},
   "outputs": [
    {
     "name": "stdout",
     "output_type": "stream",
     "text": [
      "Progress for viral+protein+processing which is 15936 out of 15936 Terms: ~0%  0 through 100000 Out of 11950  3  000 Out of 2  00 Out of 59  ut of 10  t of 3   out of 15936 Terms: ~0%  0 through 100000 Out of 2  f 18   \r"
     ]
    }
   ],
   "source": [
    "getListOfGenesForTerm(gbp[1884:], 100, 'go_biological_process_11_15_2017_top_100_min_>=4.gmt', 'Output')"
   ]
  },
  {
   "cell_type": "markdown",
   "metadata": {},
   "source": [
    "# GO Cellular Component Term List"
   ]
  },
  {
   "cell_type": "code",
   "execution_count": 222,
   "metadata": {
    "collapsed": true
   },
   "outputs": [],
   "source": [
    "df = pd.read_csv('Input/go_cellular_component_attribute_list_2017_08.tsv', sep='\\t')"
   ]
  },
  {
   "cell_type": "code",
   "execution_count": 223,
   "metadata": {},
   "outputs": [
    {
     "data": {
      "text/html": [
       "<div>\n",
       "<style>\n",
       "    .dataframe thead tr:only-child th {\n",
       "        text-align: right;\n",
       "    }\n",
       "\n",
       "    .dataframe thead th {\n",
       "        text-align: left;\n",
       "    }\n",
       "\n",
       "    .dataframe tbody tr th {\n",
       "        vertical-align: top;\n",
       "    }\n",
       "</style>\n",
       "<table border=\"1\" class=\"dataframe\">\n",
       "  <thead>\n",
       "    <tr style=\"text-align: right;\">\n",
       "      <th></th>\n",
       "      <th>Attributes</th>\n",
       "    </tr>\n",
       "  </thead>\n",
       "  <tbody>\n",
       "    <tr>\n",
       "      <th>0</th>\n",
       "      <td>vacuolar proton-transporting V-type ATPase, V1...</td>\n",
       "    </tr>\n",
       "    <tr>\n",
       "      <th>1</th>\n",
       "      <td>extrinsic component of autophagosome membrane</td>\n",
       "    </tr>\n",
       "    <tr>\n",
       "      <th>2</th>\n",
       "      <td>junctional sarcoplasmic reticulum membrane</td>\n",
       "    </tr>\n",
       "    <tr>\n",
       "      <th>3</th>\n",
       "      <td>Barr body</td>\n",
       "    </tr>\n",
       "    <tr>\n",
       "      <th>4</th>\n",
       "      <td>cytoplasmic ribonucleoprotein granule</td>\n",
       "    </tr>\n",
       "  </tbody>\n",
       "</table>\n",
       "</div>"
      ],
      "text/plain": [
       "                                          Attributes\n",
       "0  vacuolar proton-transporting V-type ATPase, V1...\n",
       "1      extrinsic component of autophagosome membrane\n",
       "2         junctional sarcoplasmic reticulum membrane\n",
       "3                                          Barr body\n",
       "4              cytoplasmic ribonucleoprotein granule"
      ]
     },
     "execution_count": 223,
     "metadata": {},
     "output_type": "execute_result"
    }
   ],
   "source": [
    "df.head()"
   ]
  },
  {
   "cell_type": "code",
   "execution_count": 224,
   "metadata": {},
   "outputs": [
    {
     "data": {
      "text/plain": [
       "(1275, 1)"
      ]
     },
     "execution_count": 224,
     "metadata": {},
     "output_type": "execute_result"
    }
   ],
   "source": [
    "df.shape"
   ]
  },
  {
   "cell_type": "code",
   "execution_count": 225,
   "metadata": {
    "collapsed": true
   },
   "outputs": [],
   "source": [
    "gcc = df.values.tolist()"
   ]
  },
  {
   "cell_type": "code",
   "execution_count": 226,
   "metadata": {
    "collapsed": true
   },
   "outputs": [],
   "source": [
    "gcc = [item[0] for item in gcc]"
   ]
  },
  {
   "cell_type": "code",
   "execution_count": 227,
   "metadata": {},
   "outputs": [
    {
     "data": {
      "text/plain": [
       "['vacuolar proton-transporting V-type ATPase, V1 domain',\n",
       " 'extrinsic component of autophagosome membrane',\n",
       " 'junctional sarcoplasmic reticulum membrane',\n",
       " 'Barr body',\n",
       " 'cytoplasmic ribonucleoprotein granule',\n",
       " 'NatA complex',\n",
       " 'phagocytic vesicle lumen',\n",
       " 'TEAD-2-YAP complex',\n",
       " 'chromaffin granule',\n",
       " 'vacuolar proton-transporting V-type ATPase complex']"
      ]
     },
     "execution_count": 227,
     "metadata": {},
     "output_type": "execute_result"
    }
   ],
   "source": [
    "gcc[0:10]"
   ]
  },
  {
   "cell_type": "code",
   "execution_count": 230,
   "metadata": {},
   "outputs": [
    {
     "name": "stdout",
     "output_type": "stream",
     "text": [
      "Progress for pbaf+complex which is 1275 out of 1275 Terms: ~0%  0 through 100000 Out of 52  gh 100000 Out of 116  95  100000 Out of 79   72  of 14  100000 Out of 5  0  \r"
     ]
    }
   ],
   "source": [
    "getListOfGenesForTerm(gcc, 100, 'go_cellular_component_11_15_2017_top_100_min_>=4.gmt', 'Output')"
   ]
  },
  {
   "cell_type": "markdown",
   "metadata": {},
   "source": [
    "# GO Molecular Function Term List"
   ]
  },
  {
   "cell_type": "code",
   "execution_count": 251,
   "metadata": {
    "collapsed": true
   },
   "outputs": [],
   "source": [
    "df = pd.read_csv('Input/go_molecular_function_attribute_list_2017_08.tsv', sep='\\t')"
   ]
  },
  {
   "cell_type": "code",
   "execution_count": 252,
   "metadata": {},
   "outputs": [
    {
     "data": {
      "text/html": [
       "<div>\n",
       "<style>\n",
       "    .dataframe thead tr:only-child th {\n",
       "        text-align: right;\n",
       "    }\n",
       "\n",
       "    .dataframe thead th {\n",
       "        text-align: left;\n",
       "    }\n",
       "\n",
       "    .dataframe tbody tr th {\n",
       "        vertical-align: top;\n",
       "    }\n",
       "</style>\n",
       "<table border=\"1\" class=\"dataframe\">\n",
       "  <thead>\n",
       "    <tr style=\"text-align: right;\">\n",
       "      <th></th>\n",
       "      <th>Attributes</th>\n",
       "    </tr>\n",
       "  </thead>\n",
       "  <tbody>\n",
       "    <tr>\n",
       "      <th>0</th>\n",
       "      <td>polygalacturonase activity</td>\n",
       "    </tr>\n",
       "    <tr>\n",
       "      <th>1</th>\n",
       "      <td>NAD(P)+-protein-arginine ADP-ribosyltransferas...</td>\n",
       "    </tr>\n",
       "    <tr>\n",
       "      <th>2</th>\n",
       "      <td>cholate 7-alpha-dehydrogenase activity</td>\n",
       "    </tr>\n",
       "    <tr>\n",
       "      <th>3</th>\n",
       "      <td>carbon monoxide sensor activity</td>\n",
       "    </tr>\n",
       "    <tr>\n",
       "      <th>4</th>\n",
       "      <td>phospholipase A2 activity</td>\n",
       "    </tr>\n",
       "  </tbody>\n",
       "</table>\n",
       "</div>"
      ],
      "text/plain": [
       "                                          Attributes\n",
       "0                         polygalacturonase activity\n",
       "1  NAD(P)+-protein-arginine ADP-ribosyltransferas...\n",
       "2             cholate 7-alpha-dehydrogenase activity\n",
       "3                    carbon monoxide sensor activity\n",
       "4                          phospholipase A2 activity"
      ]
     },
     "execution_count": 252,
     "metadata": {},
     "output_type": "execute_result"
    }
   ],
   "source": [
    "df.head()"
   ]
  },
  {
   "cell_type": "code",
   "execution_count": 253,
   "metadata": {},
   "outputs": [
    {
     "data": {
      "text/plain": [
       "(7115, 1)"
      ]
     },
     "execution_count": 253,
     "metadata": {},
     "output_type": "execute_result"
    }
   ],
   "source": [
    "df.shape"
   ]
  },
  {
   "cell_type": "code",
   "execution_count": 254,
   "metadata": {
    "collapsed": true
   },
   "outputs": [],
   "source": [
    "gmf = df.values.tolist()"
   ]
  },
  {
   "cell_type": "code",
   "execution_count": 255,
   "metadata": {
    "collapsed": true
   },
   "outputs": [],
   "source": [
    "gmf = [item[0] for item in gmf]"
   ]
  },
  {
   "cell_type": "code",
   "execution_count": 256,
   "metadata": {},
   "outputs": [
    {
     "data": {
      "text/plain": [
       "['polygalacturonase activity',\n",
       " 'NAD(P)+-protein-arginine ADP-ribosyltransferase activity',\n",
       " 'cholate 7-alpha-dehydrogenase activity',\n",
       " 'carbon monoxide sensor activity',\n",
       " 'phospholipase A2 activity',\n",
       " 'CCR9 chemokine receptor binding',\n",
       " 'D-glucose transmembrane transporter activity',\n",
       " '11-hydroxythromboxane B2 dehydrogenase activity',\n",
       " 'methionine transmembrane transporter activity',\n",
       " 'isocitrate O-dihydroxycinnamoyltransferase activity']"
      ]
     },
     "execution_count": 256,
     "metadata": {},
     "output_type": "execute_result"
    }
   ],
   "source": [
    "gmf[0:10]"
   ]
  },
  {
   "cell_type": "code",
   "execution_count": 257,
   "metadata": {},
   "outputs": [
    {
     "name": "stdout",
     "output_type": "stream",
     "text": [
      "Progress for sequence-specific+dna+binding which is 7115 out of 7115 Terms: ~0%  0 through 100000 Out of 5764  969  100000 Out of 2  Out of 3  ut of 1   of 5    Out of 621  hrough 100000 Out of 4  gen which is 5117 out of 7115 Terms: ~0%  0 through 100000 Out of 236   6  \r"
     ]
    }
   ],
   "source": [
    "getListOfGenesForTerm(gmf, 100, 'go_molecular_function_11_20_2017_top_100_min_>=4.gmt', 'Output')"
   ]
  },
  {
   "cell_type": "markdown",
   "metadata": {},
   "source": [
    "# Jensen Lab Disease Terms List"
   ]
  },
  {
   "cell_type": "code",
   "execution_count": 258,
   "metadata": {
    "collapsed": true
   },
   "outputs": [],
   "source": [
    "df = pd.read_csv('Input/jensen_disease_attribute_list_2017_08.tsv', sep='\\t')"
   ]
  },
  {
   "cell_type": "code",
   "execution_count": 259,
   "metadata": {},
   "outputs": [
    {
     "data": {
      "text/html": [
       "<div>\n",
       "<style>\n",
       "    .dataframe thead tr:only-child th {\n",
       "        text-align: right;\n",
       "    }\n",
       "\n",
       "    .dataframe thead th {\n",
       "        text-align: left;\n",
       "    }\n",
       "\n",
       "    .dataframe tbody tr th {\n",
       "        vertical-align: top;\n",
       "    }\n",
       "</style>\n",
       "<table border=\"1\" class=\"dataframe\">\n",
       "  <thead>\n",
       "    <tr style=\"text-align: right;\">\n",
       "      <th></th>\n",
       "      <th>Attributes</th>\n",
       "    </tr>\n",
       "  </thead>\n",
       "  <tbody>\n",
       "    <tr>\n",
       "      <th>0</th>\n",
       "      <td>Hartnup disease</td>\n",
       "    </tr>\n",
       "    <tr>\n",
       "      <th>1</th>\n",
       "      <td>Hordeolum</td>\n",
       "    </tr>\n",
       "    <tr>\n",
       "      <th>2</th>\n",
       "      <td>Rh isoimmunization</td>\n",
       "    </tr>\n",
       "    <tr>\n",
       "      <th>3</th>\n",
       "      <td>Diffuse idiopathic skeletal hyperostosis</td>\n",
       "    </tr>\n",
       "    <tr>\n",
       "      <th>4</th>\n",
       "      <td>Contagious pustular dermatitis</td>\n",
       "    </tr>\n",
       "  </tbody>\n",
       "</table>\n",
       "</div>"
      ],
      "text/plain": [
       "                                 Attributes\n",
       "0                           Hartnup disease\n",
       "1                                 Hordeolum\n",
       "2                        Rh isoimmunization\n",
       "3  Diffuse idiopathic skeletal hyperostosis\n",
       "4            Contagious pustular dermatitis"
      ]
     },
     "execution_count": 259,
     "metadata": {},
     "output_type": "execute_result"
    }
   ],
   "source": [
    "df.head()"
   ]
  },
  {
   "cell_type": "code",
   "execution_count": 260,
   "metadata": {},
   "outputs": [
    {
     "data": {
      "text/plain": [
       "(3679, 1)"
      ]
     },
     "execution_count": 260,
     "metadata": {},
     "output_type": "execute_result"
    }
   ],
   "source": [
    "df.shape"
   ]
  },
  {
   "cell_type": "code",
   "execution_count": 261,
   "metadata": {
    "collapsed": true
   },
   "outputs": [],
   "source": [
    "jld = df.values.tolist()"
   ]
  },
  {
   "cell_type": "code",
   "execution_count": 262,
   "metadata": {
    "collapsed": true
   },
   "outputs": [],
   "source": [
    "jld = [item[0] for item in jld]"
   ]
  },
  {
   "cell_type": "code",
   "execution_count": 263,
   "metadata": {},
   "outputs": [
    {
     "data": {
      "text/plain": [
       "['Hartnup disease',\n",
       " 'Hordeolum',\n",
       " 'Rh isoimmunization',\n",
       " 'Diffuse idiopathic skeletal hyperostosis',\n",
       " 'Contagious pustular dermatitis',\n",
       " 'Reticular dysgenesis',\n",
       " 'Frontal sinus cancer',\n",
       " 'Congenital afibrinogenemia',\n",
       " 'Insulinoma',\n",
       " 'Hyperlysinemia']"
      ]
     },
     "execution_count": 263,
     "metadata": {},
     "output_type": "execute_result"
    }
   ],
   "source": [
    "jld[0:10]"
   ]
  },
  {
   "cell_type": "code",
   "execution_count": 265,
   "metadata": {},
   "outputs": [
    {
     "name": "stdout",
     "output_type": "stream",
     "text": [
      "Progress for myositis+ossificans which is 3679 out of 3679 Terms: ~0%  0 through 100000 Out of 2193  8  00000 Out of 79  f 1720   t of 6   3  0000 Out of 119   of 114038  \r"
     ]
    }
   ],
   "source": [
    "getListOfGenesForTerm(jld, 100, 'jensen_lab_diseases_11_20_2017_top_100_min_>=4.gmt', 'Output')"
   ]
  },
  {
   "cell_type": "markdown",
   "metadata": {},
   "source": [
    "# Jensen Lab Tissues Terms List"
   ]
  },
  {
   "cell_type": "code",
   "execution_count": 266,
   "metadata": {
    "collapsed": true
   },
   "outputs": [],
   "source": [
    "df = pd.read_csv('Input/jensen_tissue_attribute_list_2017_08.tsv', sep='\\t')"
   ]
  },
  {
   "cell_type": "code",
   "execution_count": 267,
   "metadata": {},
   "outputs": [
    {
     "data": {
      "text/html": [
       "<div>\n",
       "<style>\n",
       "    .dataframe thead tr:only-child th {\n",
       "        text-align: right;\n",
       "    }\n",
       "\n",
       "    .dataframe thead th {\n",
       "        text-align: left;\n",
       "    }\n",
       "\n",
       "    .dataframe tbody tr th {\n",
       "        vertical-align: top;\n",
       "    }\n",
       "</style>\n",
       "<table border=\"1\" class=\"dataframe\">\n",
       "  <thead>\n",
       "    <tr style=\"text-align: right;\">\n",
       "      <th></th>\n",
       "      <th>Attributes</th>\n",
       "    </tr>\n",
       "  </thead>\n",
       "  <tbody>\n",
       "    <tr>\n",
       "      <th>0</th>\n",
       "      <td>Oc cell</td>\n",
       "    </tr>\n",
       "    <tr>\n",
       "      <th>1</th>\n",
       "      <td>MC3T3-E1 cell</td>\n",
       "    </tr>\n",
       "    <tr>\n",
       "      <th>2</th>\n",
       "      <td>colo684</td>\n",
       "    </tr>\n",
       "    <tr>\n",
       "      <th>3</th>\n",
       "      <td>MSTO-211H cell</td>\n",
       "    </tr>\n",
       "    <tr>\n",
       "      <th>4</th>\n",
       "      <td>Inner medullary collecting duct</td>\n",
       "    </tr>\n",
       "  </tbody>\n",
       "</table>\n",
       "</div>"
      ],
      "text/plain": [
       "                        Attributes\n",
       "0                          Oc cell\n",
       "1                    MC3T3-E1 cell\n",
       "2                          colo684\n",
       "3                   MSTO-211H cell\n",
       "4  Inner medullary collecting duct"
      ]
     },
     "execution_count": 267,
     "metadata": {},
     "output_type": "execute_result"
    }
   ],
   "source": [
    "df.head()"
   ]
  },
  {
   "cell_type": "code",
   "execution_count": 268,
   "metadata": {},
   "outputs": [
    {
     "data": {
      "text/plain": [
       "(4098, 1)"
      ]
     },
     "execution_count": 268,
     "metadata": {},
     "output_type": "execute_result"
    }
   ],
   "source": [
    "df.shape"
   ]
  },
  {
   "cell_type": "code",
   "execution_count": 271,
   "metadata": {
    "collapsed": true
   },
   "outputs": [],
   "source": [
    "jlt = df.values.tolist()"
   ]
  },
  {
   "cell_type": "code",
   "execution_count": 272,
   "metadata": {
    "collapsed": true
   },
   "outputs": [],
   "source": [
    "jlt = [item[0] for item in jlt]"
   ]
  },
  {
   "cell_type": "code",
   "execution_count": 273,
   "metadata": {},
   "outputs": [
    {
     "data": {
      "text/plain": [
       "['Oc cell',\n",
       " 'MC3T3-E1 cell',\n",
       " 'colo684',\n",
       " 'MSTO-211H cell',\n",
       " 'Inner medullary collecting duct',\n",
       " 'Middle ear',\n",
       " 'Photophore',\n",
       " 'Bursa copulatrix',\n",
       " 'Parahippocampal gyrus',\n",
       " 'A-1235 cell']"
      ]
     },
     "execution_count": 273,
     "metadata": {},
     "output_type": "execute_result"
    }
   ],
   "source": [
    "jlt[0:10]"
   ]
  },
  {
   "cell_type": "code",
   "execution_count": 277,
   "metadata": {},
   "outputs": [
    {
     "name": "stdout",
     "output_type": "stream",
     "text": [
      "Progress for abductor which is 4098 out of 4098 Terms: ~0%  0 through 100000 Out of 4573  00000 Out of 27314  ut of 9308  0 Out of 167    \r"
     ]
    }
   ],
   "source": [
    "getListOfGenesForTerm(jlt, 100, 'jensen_lab_tissues_11_20_2017_top_100_min_>=4.gmt', 'Output')"
   ]
  },
  {
   "cell_type": "markdown",
   "metadata": {},
   "source": [
    "# Jensen Lab Compartments Terms List"
   ]
  },
  {
   "cell_type": "code",
   "execution_count": 278,
   "metadata": {
    "collapsed": true
   },
   "outputs": [],
   "source": [
    "df = pd.read_csv('Input/jensen_compartments_attribute_list_2017_08.tsv', sep='\\t')"
   ]
  },
  {
   "cell_type": "code",
   "execution_count": 279,
   "metadata": {},
   "outputs": [
    {
     "data": {
      "text/html": [
       "<div>\n",
       "<style>\n",
       "    .dataframe thead tr:only-child th {\n",
       "        text-align: right;\n",
       "    }\n",
       "\n",
       "    .dataframe thead th {\n",
       "        text-align: left;\n",
       "    }\n",
       "\n",
       "    .dataframe tbody tr th {\n",
       "        vertical-align: top;\n",
       "    }\n",
       "</style>\n",
       "<table border=\"1\" class=\"dataframe\">\n",
       "  <thead>\n",
       "    <tr style=\"text-align: right;\">\n",
       "      <th></th>\n",
       "      <th>Attributes</th>\n",
       "    </tr>\n",
       "  </thead>\n",
       "  <tbody>\n",
       "    <tr>\n",
       "      <th>0</th>\n",
       "      <td>Presynaptic active zone cytoplasmic component</td>\n",
       "    </tr>\n",
       "    <tr>\n",
       "      <th>1</th>\n",
       "      <td>Cytoplasmic exosome (RNase complex)</td>\n",
       "    </tr>\n",
       "    <tr>\n",
       "      <th>2</th>\n",
       "      <td>ERBB4-ERBB3 complex</td>\n",
       "    </tr>\n",
       "    <tr>\n",
       "      <th>3</th>\n",
       "      <td>Fc receptor complex</td>\n",
       "    </tr>\n",
       "    <tr>\n",
       "      <th>4</th>\n",
       "      <td>CENP-A recruiting complex</td>\n",
       "    </tr>\n",
       "  </tbody>\n",
       "</table>\n",
       "</div>"
      ],
      "text/plain": [
       "                                      Attributes\n",
       "0  Presynaptic active zone cytoplasmic component\n",
       "1            Cytoplasmic exosome (RNase complex)\n",
       "2                            ERBB4-ERBB3 complex\n",
       "3                            Fc receptor complex\n",
       "4                      CENP-A recruiting complex"
      ]
     },
     "execution_count": 279,
     "metadata": {},
     "output_type": "execute_result"
    }
   ],
   "source": [
    "df.head()"
   ]
  },
  {
   "cell_type": "code",
   "execution_count": 280,
   "metadata": {},
   "outputs": [
    {
     "data": {
      "text/plain": [
       "(2826, 1)"
      ]
     },
     "execution_count": 280,
     "metadata": {},
     "output_type": "execute_result"
    }
   ],
   "source": [
    "df.shape"
   ]
  },
  {
   "cell_type": "code",
   "execution_count": 281,
   "metadata": {
    "collapsed": true
   },
   "outputs": [],
   "source": [
    "jlc = df.values.tolist()"
   ]
  },
  {
   "cell_type": "code",
   "execution_count": 282,
   "metadata": {
    "collapsed": true
   },
   "outputs": [],
   "source": [
    "jlc = [item[0] for item in jlc]"
   ]
  },
  {
   "cell_type": "code",
   "execution_count": 283,
   "metadata": {},
   "outputs": [
    {
     "data": {
      "text/plain": [
       "['Presynaptic active zone cytoplasmic component',\n",
       " 'Cytoplasmic exosome (RNase complex)',\n",
       " 'ERBB4-ERBB3 complex',\n",
       " 'Fc receptor complex',\n",
       " 'CENP-A recruiting complex',\n",
       " 'Signal recognition particle',\n",
       " 'Integrin alphav-beta3 complex',\n",
       " 'Mitochondrial part',\n",
       " 'Pexophagosome',\n",
       " 'ferredoxin:thioredoxin reductase complex']"
      ]
     },
     "execution_count": 283,
     "metadata": {},
     "output_type": "execute_result"
    }
   ],
   "source": [
    "jlc[0:10]"
   ]
  },
  {
   "cell_type": "code",
   "execution_count": 284,
   "metadata": {},
   "outputs": [
    {
     "name": "stdout",
     "output_type": "stream",
     "text": [
      "Progress for synaptic+vesicle,+recycling+pool which is 2826 out of 2826 Terms: ~0%  0 through 100000 Out of 256   of 291  2144  Out of 43   15   1  5  000 Out of 5  0  \r"
     ]
    }
   ],
   "source": [
    "getListOfGenesForTerm(jlc, 100, 'jensen_lab_compartments_11_20_2017_top_100_min_>=4.gmt', 'Output')"
   ]
  },
  {
   "cell_type": "markdown",
   "metadata": {},
   "source": [
    "# List of Phenotypes from from Human Phenotype Ontology "
   ]
  },
  {
   "cell_type": "code",
   "execution_count": 285,
   "metadata": {
    "collapsed": true
   },
   "outputs": [],
   "source": [
    "df = pd.read_csv('Input/hpo_attribute_list_2017_11.tsv', sep='\\t')"
   ]
  },
  {
   "cell_type": "code",
   "execution_count": 286,
   "metadata": {},
   "outputs": [
    {
     "data": {
      "text/html": [
       "<div>\n",
       "<style>\n",
       "    .dataframe thead tr:only-child th {\n",
       "        text-align: right;\n",
       "    }\n",
       "\n",
       "    .dataframe thead th {\n",
       "        text-align: left;\n",
       "    }\n",
       "\n",
       "    .dataframe tbody tr th {\n",
       "        vertical-align: top;\n",
       "    }\n",
       "</style>\n",
       "<table border=\"1\" class=\"dataframe\">\n",
       "  <thead>\n",
       "    <tr style=\"text-align: right;\">\n",
       "      <th></th>\n",
       "      <th>Attributes</th>\n",
       "    </tr>\n",
       "  </thead>\n",
       "  <tbody>\n",
       "    <tr>\n",
       "      <th>0</th>\n",
       "      <td>Astrocytosis</td>\n",
       "    </tr>\n",
       "    <tr>\n",
       "      <th>1</th>\n",
       "      <td>Alopecia universalis</td>\n",
       "    </tr>\n",
       "    <tr>\n",
       "      <th>2</th>\n",
       "      <td>Aplasia/Hypoplasia of the pubic bone</td>\n",
       "    </tr>\n",
       "    <tr>\n",
       "      <th>3</th>\n",
       "      <td>Thromboembolic stroke</td>\n",
       "    </tr>\n",
       "    <tr>\n",
       "      <th>4</th>\n",
       "      <td>Respiratory arrest</td>\n",
       "    </tr>\n",
       "  </tbody>\n",
       "</table>\n",
       "</div>"
      ],
      "text/plain": [
       "                             Attributes\n",
       "0                          Astrocytosis\n",
       "1                  Alopecia universalis\n",
       "2  Aplasia/Hypoplasia of the pubic bone\n",
       "3                 Thromboembolic stroke\n",
       "4                    Respiratory arrest"
      ]
     },
     "execution_count": 286,
     "metadata": {},
     "output_type": "execute_result"
    }
   ],
   "source": [
    "df.head()"
   ]
  },
  {
   "cell_type": "code",
   "execution_count": 287,
   "metadata": {},
   "outputs": [
    {
     "data": {
      "text/plain": [
       "(7841, 1)"
      ]
     },
     "execution_count": 287,
     "metadata": {},
     "output_type": "execute_result"
    }
   ],
   "source": [
    "df.shape"
   ]
  },
  {
   "cell_type": "code",
   "execution_count": 288,
   "metadata": {
    "collapsed": true
   },
   "outputs": [],
   "source": [
    "hpo = df.values.tolist()"
   ]
  },
  {
   "cell_type": "code",
   "execution_count": 289,
   "metadata": {
    "collapsed": true
   },
   "outputs": [],
   "source": [
    "hpo = [item[0] for item in hpo]"
   ]
  },
  {
   "cell_type": "code",
   "execution_count": 290,
   "metadata": {},
   "outputs": [
    {
     "data": {
      "text/plain": [
       "['Astrocytosis',\n",
       " 'Alopecia universalis',\n",
       " 'Aplasia/Hypoplasia of the pubic bone',\n",
       " 'Thromboembolic stroke',\n",
       " 'Respiratory arrest',\n",
       " 'Lipomatous tumor',\n",
       " 'Enlarged cisterna magna',\n",
       " 'Spontaneous esophageal perforation',\n",
       " 'Cerebellar Purkinje layer atrophy',\n",
       " 'Post-angioplasty coronary artery restenosis']"
      ]
     },
     "execution_count": 290,
     "metadata": {},
     "output_type": "execute_result"
    }
   ],
   "source": [
    "hpo[0:10]"
   ]
  },
  {
   "cell_type": "code",
   "execution_count": 291,
   "metadata": {},
   "outputs": [
    {
     "name": "stdout",
     "output_type": "stream",
     "text": [
      "Progress for abnormality+of+the+musculature+of+the+upper+arm which is 7841 out of 7841 Terms: ~0%  0 through 100000 Out of 3   of 65    841 Terms: ~0%  0 through 100000 Out of 16   \r"
     ]
    }
   ],
   "source": [
    "getListOfGenesForTerm(hpo, 100, 'hpo_phenotype_11_20_2017_top_100_min_>=4.gmt', 'Output')"
   ]
  },
  {
   "cell_type": "markdown",
   "metadata": {},
   "source": [
    "# CCLE Cell Line Term List "
   ]
  },
  {
   "cell_type": "code",
   "execution_count": 303,
   "metadata": {
    "collapsed": true
   },
   "outputs": [],
   "source": [
    "df = pd.read_csv('Input/ccle_attribute_list_2017_08.tsv', sep='\\t')"
   ]
  },
  {
   "cell_type": "code",
   "execution_count": 304,
   "metadata": {},
   "outputs": [
    {
     "data": {
      "text/html": [
       "<div>\n",
       "<style>\n",
       "    .dataframe thead tr:only-child th {\n",
       "        text-align: right;\n",
       "    }\n",
       "\n",
       "    .dataframe thead th {\n",
       "        text-align: left;\n",
       "    }\n",
       "\n",
       "    .dataframe tbody tr th {\n",
       "        vertical-align: top;\n",
       "    }\n",
       "</style>\n",
       "<table border=\"1\" class=\"dataframe\">\n",
       "  <thead>\n",
       "    <tr style=\"text-align: right;\">\n",
       "      <th></th>\n",
       "      <th>Attributes</th>\n",
       "    </tr>\n",
       "  </thead>\n",
       "  <tbody>\n",
       "    <tr>\n",
       "      <th>0</th>\n",
       "      <td>LN18_CENTRAL_NERVOUS_SYSTEM</td>\n",
       "    </tr>\n",
       "    <tr>\n",
       "      <th>1</th>\n",
       "      <td>769P_KIDNEY</td>\n",
       "    </tr>\n",
       "    <tr>\n",
       "      <th>2</th>\n",
       "      <td>786O_KIDNEY</td>\n",
       "    </tr>\n",
       "    <tr>\n",
       "      <th>3</th>\n",
       "      <td>CAOV3_OVARY</td>\n",
       "    </tr>\n",
       "    <tr>\n",
       "      <th>4</th>\n",
       "      <td>HEPG2_LIVER</td>\n",
       "    </tr>\n",
       "  </tbody>\n",
       "</table>\n",
       "</div>"
      ],
      "text/plain": [
       "                    Attributes\n",
       "0  LN18_CENTRAL_NERVOUS_SYSTEM\n",
       "1                  769P_KIDNEY\n",
       "2                  786O_KIDNEY\n",
       "3                  CAOV3_OVARY\n",
       "4                  HEPG2_LIVER"
      ]
     },
     "execution_count": 304,
     "metadata": {},
     "output_type": "execute_result"
    }
   ],
   "source": [
    "df.head()"
   ]
  },
  {
   "cell_type": "code",
   "execution_count": 305,
   "metadata": {},
   "outputs": [
    {
     "name": "stdout",
     "output_type": "stream",
     "text": [
      "Progress: 100%  1036 Out of 1036 terms  \r"
     ]
    }
   ],
   "source": [
    "lst = []\n",
    "\n",
    "for i,index in enumerate(df.index):\n",
    "    \n",
    "    progressPercent = ((i+1)/len(df.index))*100\n",
    "\n",
    "    sys.stdout.write(\"Progress: %d%%  %d Out of %d terms  \\r\" % (progressPercent, (i+1), len(df.index)))\n",
    "    sys.stdout.flush()\n",
    "    \n",
    "    lst.append(df.loc[index, 'Attributes'].split('_')[0])\n",
    "    \n",
    "df['Attributes'] = lst\n",
    "\n",
    "df.drop_duplicates(inplace=True)"
   ]
  },
  {
   "cell_type": "code",
   "execution_count": 306,
   "metadata": {},
   "outputs": [
    {
     "data": {
      "text/html": [
       "<div>\n",
       "<style>\n",
       "    .dataframe thead tr:only-child th {\n",
       "        text-align: right;\n",
       "    }\n",
       "\n",
       "    .dataframe thead th {\n",
       "        text-align: left;\n",
       "    }\n",
       "\n",
       "    .dataframe tbody tr th {\n",
       "        vertical-align: top;\n",
       "    }\n",
       "</style>\n",
       "<table border=\"1\" class=\"dataframe\">\n",
       "  <thead>\n",
       "    <tr style=\"text-align: right;\">\n",
       "      <th></th>\n",
       "      <th>Attributes</th>\n",
       "    </tr>\n",
       "  </thead>\n",
       "  <tbody>\n",
       "    <tr>\n",
       "      <th>0</th>\n",
       "      <td>LN18</td>\n",
       "    </tr>\n",
       "    <tr>\n",
       "      <th>1</th>\n",
       "      <td>769P</td>\n",
       "    </tr>\n",
       "    <tr>\n",
       "      <th>2</th>\n",
       "      <td>786O</td>\n",
       "    </tr>\n",
       "    <tr>\n",
       "      <th>3</th>\n",
       "      <td>CAOV3</td>\n",
       "    </tr>\n",
       "    <tr>\n",
       "      <th>4</th>\n",
       "      <td>HEPG2</td>\n",
       "    </tr>\n",
       "  </tbody>\n",
       "</table>\n",
       "</div>"
      ],
      "text/plain": [
       "  Attributes\n",
       "0       LN18\n",
       "1       769P\n",
       "2       786O\n",
       "3      CAOV3\n",
       "4      HEPG2"
      ]
     },
     "execution_count": 306,
     "metadata": {},
     "output_type": "execute_result"
    }
   ],
   "source": [
    "df.head()"
   ]
  },
  {
   "cell_type": "code",
   "execution_count": 307,
   "metadata": {
    "collapsed": true
   },
   "outputs": [],
   "source": [
    "ccle = df.values.tolist()"
   ]
  },
  {
   "cell_type": "code",
   "execution_count": 308,
   "metadata": {
    "collapsed": true
   },
   "outputs": [],
   "source": [
    "ccle = [item[0] for item in ccle]"
   ]
  },
  {
   "cell_type": "code",
   "execution_count": 309,
   "metadata": {},
   "outputs": [
    {
     "data": {
      "text/plain": [
       "['LN18',\n",
       " '769P',\n",
       " '786O',\n",
       " 'CAOV3',\n",
       " 'HEPG2',\n",
       " 'MOLT4',\n",
       " 'NCIH524',\n",
       " 'NCIH209',\n",
       " 'MIAPACA2',\n",
       " 'MCAS']"
      ]
     },
     "execution_count": 309,
     "metadata": {},
     "output_type": "execute_result"
    }
   ],
   "source": [
    "ccle[0:10]"
   ]
  },
  {
   "cell_type": "code",
   "execution_count": 310,
   "metadata": {},
   "outputs": [
    {
     "name": "stdout",
     "output_type": "stream",
     "text": [
      "Progress for ch157mn which is 1035 out of 1035 Terms: ~0%  0 through 100000 Out of 1  5  5  \r"
     ]
    }
   ],
   "source": [
    "getListOfGenesForTerm(ccle, 100, 'ccle_11_27_2017_top_100_min_>=4.gmt', 'Output')"
   ]
  },
  {
   "cell_type": "markdown",
   "metadata": {},
   "source": [
    "# Drugbank Term List "
   ]
  },
  {
   "cell_type": "code",
   "execution_count": 316,
   "metadata": {
    "collapsed": true
   },
   "outputs": [],
   "source": [
    "df = pd.read_csv('Input/drugbank_attribute_list_2017_11.tsv', sep='\\t')"
   ]
  },
  {
   "cell_type": "code",
   "execution_count": 317,
   "metadata": {},
   "outputs": [
    {
     "data": {
      "text/html": [
       "<div>\n",
       "<style>\n",
       "    .dataframe thead tr:only-child th {\n",
       "        text-align: right;\n",
       "    }\n",
       "\n",
       "    .dataframe thead th {\n",
       "        text-align: left;\n",
       "    }\n",
       "\n",
       "    .dataframe tbody tr th {\n",
       "        vertical-align: top;\n",
       "    }\n",
       "</style>\n",
       "<table border=\"1\" class=\"dataframe\">\n",
       "  <thead>\n",
       "    <tr style=\"text-align: right;\">\n",
       "      <th></th>\n",
       "      <th>Attributes</th>\n",
       "    </tr>\n",
       "  </thead>\n",
       "  <tbody>\n",
       "    <tr>\n",
       "      <th>0</th>\n",
       "      <td>3-Hydroxypropyl 3-[(7-carbamimidoyl-1-naphthyl...</td>\n",
       "    </tr>\n",
       "    <tr>\n",
       "      <th>1</th>\n",
       "      <td>LI-301</td>\n",
       "    </tr>\n",
       "    <tr>\n",
       "      <th>2</th>\n",
       "      <td>Valproic Acid</td>\n",
       "    </tr>\n",
       "    <tr>\n",
       "      <th>3</th>\n",
       "      <td>Proellex</td>\n",
       "    </tr>\n",
       "    <tr>\n",
       "      <th>4</th>\n",
       "      <td>(3E)-3-[(phenylamino)methylidene]dihydrofuran-...</td>\n",
       "    </tr>\n",
       "  </tbody>\n",
       "</table>\n",
       "</div>"
      ],
      "text/plain": [
       "                                          Attributes\n",
       "0  3-Hydroxypropyl 3-[(7-carbamimidoyl-1-naphthyl...\n",
       "1                                             LI-301\n",
       "2                                      Valproic Acid\n",
       "3                                           Proellex\n",
       "4  (3E)-3-[(phenylamino)methylidene]dihydrofuran-..."
      ]
     },
     "execution_count": 317,
     "metadata": {},
     "output_type": "execute_result"
    }
   ],
   "source": [
    "df.head()"
   ]
  },
  {
   "cell_type": "code",
   "execution_count": 318,
   "metadata": {
    "collapsed": true
   },
   "outputs": [],
   "source": [
    "db = df.values.tolist()"
   ]
  },
  {
   "cell_type": "code",
   "execution_count": 319,
   "metadata": {
    "collapsed": true
   },
   "outputs": [],
   "source": [
    "db = [item[0] for item in db]"
   ]
  },
  {
   "cell_type": "code",
   "execution_count": 320,
   "metadata": {},
   "outputs": [
    {
     "data": {
      "text/plain": [
       "['3-Hydroxypropyl 3-[(7-carbamimidoyl-1-naphthyl)carbamoyl]benzenesulfonate',\n",
       " 'LI-301',\n",
       " 'Valproic Acid',\n",
       " 'Proellex',\n",
       " '(3E)-3-[(phenylamino)methylidene]dihydrofuran-2(3H)-one',\n",
       " 'Donepezil',\n",
       " 'Bromo-Willardiine',\n",
       " \"'5'-O-(N-(L-Alanyl)-Sulfamoyl)Adenosine\",\n",
       " 'Adenosine',\n",
       " '4-(4-methoxy-1H-pyrrolo[2,3-b]pyridin-3-yl)pyrimidin-2-amine']"
      ]
     },
     "execution_count": 320,
     "metadata": {},
     "output_type": "execute_result"
    }
   ],
   "source": [
    "db[0:10]"
   ]
  },
  {
   "cell_type": "code",
   "execution_count": 321,
   "metadata": {},
   "outputs": [
    {
     "name": "stdout",
     "output_type": "stream",
     "text": [
      "Progress for apremilast which is 4930 out of 4930 Terms: ~0%  0 through 100000 Out of 300  100000 Out of 87687  Terms: ~0%  0 through 100000 Out of 1  rough 100000 Out of 1  8   t of 4930 Terms: ~0%  0 through 100000 Out of 2620  \r"
     ]
    }
   ],
   "source": [
    "getListOfGenesForTerm(db, 100, 'drugbank_11_27_2017_top_100_min_>=4.gmt', 'Output')"
   ]
  },
  {
   "cell_type": "code",
   "execution_count": null,
   "metadata": {
    "collapsed": true
   },
   "outputs": [],
   "source": []
  }
 ],
 "metadata": {
  "kernelspec": {
   "display_name": "Python [default]",
   "language": "python",
   "name": "python3"
  },
  "language_info": {
   "codemirror_mode": {
    "name": "ipython",
    "version": 3
   },
   "file_extension": ".py",
   "mimetype": "text/x-python",
   "name": "python",
   "nbconvert_exporter": "python",
   "pygments_lexer": "ipython3",
   "version": "3.5.2"
  }
 },
 "nbformat": 4,
 "nbformat_minor": 2
}
